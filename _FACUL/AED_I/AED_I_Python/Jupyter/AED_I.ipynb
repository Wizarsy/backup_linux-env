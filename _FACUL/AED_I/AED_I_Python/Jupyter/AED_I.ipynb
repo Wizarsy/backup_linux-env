{
  "cells": [
    {
      "cell_type": "markdown",
      "metadata": {
        "id": "ZxTIxFLPQeEp"
      },
      "source": [
        "#Lista estruturas de controle"
      ]
    },
    {
      "cell_type": "code",
      "execution_count": null,
      "metadata": {
        "colab": {
          "base_uri": "https://localhost:8080/"
        },
        "id": "wpi7H1i6Jz_A",
        "outputId": "fd5e62c1-c055-4579-a676-dc3f2ff1c095"
      },
      "outputs": [
        {
          "name": "stdout",
          "output_type": "stream",
          "text": [
            "1\n",
            "5\n",
            "6\n"
          ]
        }
      ],
      "source": [
        "# 1\n",
        "n1 = int(input())\n",
        "n2 = int(input())\n",
        "s = n1 + n2\n",
        "m = s * n1\n",
        "print(m)"
      ]
    },
    {
      "cell_type": "code",
      "execution_count": null,
      "metadata": {
        "colab": {
          "base_uri": "https://localhost:8080/"
        },
        "id": "8uEFeenzLREf",
        "outputId": "c21c0fbb-ce9a-4d7b-aa77-7fbb25a02996"
      },
      "outputs": [
        {
          "name": "stdout",
          "output_type": "stream",
          "text": [
            "5\n",
            "4 6\n"
          ]
        }
      ],
      "source": [
        "# 2\n",
        "x = int(input())\n",
        "a = x - 1\n",
        "s = x + 1\n",
        "print(a,s)"
      ]
    },
    {
      "cell_type": "code",
      "execution_count": null,
      "metadata": {
        "colab": {
          "base_uri": "https://localhost:8080/"
        },
        "id": "emrpwiiyLmSV",
        "outputId": "84fad1da-520f-4ec9-8340-05bc083d8a2d"
      },
      "outputs": [
        {
          "name": "stdout",
          "output_type": "stream",
          "text": [
            "5\n",
            "10 15\n"
          ]
        }
      ],
      "source": [
        "# 3\n",
        "x = int(input())\n",
        "d = x * 2\n",
        "t = x * 3\n",
        "print(d,t)"
      ]
    },
    {
      "cell_type": "code",
      "execution_count": null,
      "metadata": {
        "colab": {
          "base_uri": "https://localhost:8080/"
        },
        "id": "LQyBs3v6L1wu",
        "outputId": "e972cb5e-d8d9-4a8d-cd7e-adcbdadf1ccc"
      },
      "outputs": [
        {
          "name": "stdout",
          "output_type": "stream",
          "text": [
            "5\n",
            "5\n",
            "5\n",
            "5\n",
            "5\n",
            "125\n"
          ]
        }
      ],
      "source": [
        "# 4\n",
        "n1 = int(input())\n",
        "n2 = int(input())\n",
        "n3 = int(input())\n",
        "n4 = int(input())\n",
        "n5 = int(input())\n",
        "s = n1 + n2 + n3 + n4 + n5\n",
        "m = s * n1\n",
        "print(m)"
      ]
    },
    {
      "cell_type": "code",
      "execution_count": null,
      "metadata": {
        "colab": {
          "base_uri": "https://localhost:8080/"
        },
        "id": "XokUPDkwv7BR",
        "outputId": "ed47e844-6acb-42ef-e8ae-3ee8ffa5f347"
      },
      "outputs": [
        {
          "name": "stdout",
          "output_type": "stream",
          "text": [
            "Informe \"h\" para Homem ou \"m\" para Mulher: h\n",
            "Informe sua altura: 1.85\n",
            "Informe seu peso: 62.2\n",
            "Seu peso é 62.2Kg. Seu peso ideal é 76.50Kg. Você está com o peso Abaixo\n"
          ]
        }
      ],
      "source": [
        "# 12\n",
        "lista = ['h','m']\n",
        "altura = 0\n",
        "peso = 0\n",
        "sexo = 0\n",
        "\n",
        "while sexo not in lista or altura == 0 or peso == 0:\n",
        "  try:\n",
        "    sexo = input('Informe \"h\" para Homem ou \"m\" para Mulher: ').lower()\n",
        "    altura = float(input('Informe sua altura: '))\n",
        "    peso = float(input('Informe seu peso: '))\n",
        "  except:\n",
        "    print('\\nDados inválidos')\n",
        "\n",
        "if sexo == 'h':\n",
        "  peso_ideal = (72.7 * altura)- 58\n",
        "elif sexo == 'm':\n",
        "  peso_ideal = (62.1 * altura) - 44.7\n",
        "\n",
        "variação = peso_ideal * (8/100)\n",
        "variação_abaixo = peso_ideal - variação\n",
        "variação_acima = peso_ideal + variação\n",
        "\n",
        "if peso < variação_abaixo:\n",
        "  peso_estado = 'Abaixo'\n",
        "elif peso > variação_acima:\n",
        "  peso_estado = 'Acima'\n",
        "else:\n",
        "  peso_estado = 'Normal'\n",
        "\n",
        "print('Seu peso é {0}Kg. Seu peso ideal é {1:.2f}Kg. Você está com o peso {2}'.format(peso, peso_ideal, peso_estado))"
      ]
    },
    {
      "cell_type": "code",
      "execution_count": null,
      "metadata": {
        "colab": {
          "base_uri": "https://localhost:8080/"
        },
        "id": "dyWGpd7PnpbV",
        "outputId": "d97b84ec-fe92-484b-9093-d05fc646b531"
      },
      "outputs": [
        {
          "name": "stdout",
          "output_type": "stream",
          "text": [
            "Depois de meia hora percorreu 44.0Km de 352Km\n",
            "Depois de meia hora percorreu 88.0Km de 352Km\n",
            "Depois de meia hora percorreu 176.0Km de 352Km\n",
            "Depois de meia hora percorreu 352.0Km de 352Km\n"
          ]
        }
      ],
      "source": [
        "# 14\n",
        "velocidade = 88\n",
        "tempo = 4\n",
        "distancia = velocidade*tempo\n",
        "distancia_meia = distancia/8\n",
        "while distancia_meia <= distancia:\n",
        "  print('Depois de meia hora percorreu {0:}Km de {1}Km'.format(distancia_meia, distancia))\n",
        "  distancia_meia += distancia_meia"
      ]
    },
    {
      "cell_type": "code",
      "execution_count": null,
      "metadata": {
        "colab": {
          "base_uri": "https://localhost:8080/"
        },
        "id": "Gh8OejBv0Eha",
        "outputId": "304783bc-6834-406b-be46-dd025cfdd16f"
      },
      "outputs": [
        {
          "name": "stdout",
          "output_type": "stream",
          "text": [
            "101 103 107 109 113 127 131 137 139 149 151 157 163 167 173 179 181 191 193 197 199 211 223 227 229 233 239 241 251 257 263 269 271 277 281 283 293 307 311 313 317 331 337 347 349 353 359 367 373 379 383 389 397 401 409 419 421 431 433 439 443 449 457 461 463 467 479 487 491 499 503 509 521 523 541 547 557 563 569 571 577 587 593 599 601 607 613 617 619 631 641 643 647 653 659 661 673 677 683 691 701 709 719 727 733 739 743 751 757 761 769 773 787 797 809 811 821 823 827 829 839 853 857 859 863 877 881 883 887 907 911 919 929 937 941 947 953 967 971 977 983 991 997 "
          ]
        }
      ],
      "source": [
        "# 36 - num primos\n",
        "inicio = 100\n",
        "fim = 1000\n",
        "for elemento in range(inicio, fim+1):\n",
        "  if elemento == 1:\n",
        "    continue\n",
        "  else:\n",
        "    resto = elemento % 2\n",
        "    if resto != 0 or elemento == 2:\n",
        "      for div in range(2, elemento):\n",
        "        resto = elemento % div\n",
        "        if resto == 0:\n",
        "          break\n",
        "      if resto != 0 or elemento == 2:\n",
        "        print(elemento, end=' ')"
      ]
    },
    {
      "cell_type": "markdown",
      "metadata": {
        "id": "neDzeSx8QVVl"
      },
      "source": [
        "#Lista funções"
      ]
    },
    {
      "cell_type": "code",
      "execution_count": null,
      "metadata": {
        "colab": {
          "base_uri": "https://localhost:8080/"
        },
        "id": "kMlFFth5KuzT",
        "outputId": "49203e2f-144b-4757-ba29-c9ea0346af3e"
      },
      "outputs": [
        {
          "name": "stdout",
          "output_type": "stream",
          "text": [
            "15\n"
          ]
        }
      ],
      "source": [
        "def soma(a, b):\n",
        "  a += b\n",
        "  return a\n",
        "print(soma(10, 5))"
      ]
    },
    {
      "cell_type": "code",
      "execution_count": null,
      "metadata": {
        "colab": {
          "base_uri": "https://localhost:8080/"
        },
        "id": "rsSRqQMhQTpg",
        "outputId": "e85bc5b5-3a0f-449e-b4d0-218bc573f3a2"
      },
      "outputs": [
        {
          "name": "stdout",
          "output_type": "stream",
          "text": [
            "5\n"
          ]
        }
      ],
      "source": [
        "def sub(a, b):\n",
        "  a -= b\n",
        "  return a\n",
        "print(sub(10, 5))"
      ]
    },
    {
      "cell_type": "code",
      "execution_count": null,
      "metadata": {
        "colab": {
          "base_uri": "https://localhost:8080/"
        },
        "id": "qlxrZtkfQoBJ",
        "outputId": "6ed8f038-72a4-4f7e-e0e0-abee5a041773"
      },
      "outputs": [
        {
          "name": "stdout",
          "output_type": "stream",
          "text": [
            "50\n"
          ]
        }
      ],
      "source": [
        "def multi(a, b):\n",
        "  a *= b\n",
        "  return a\n",
        "print(multi(10, 5))"
      ]
    },
    {
      "cell_type": "code",
      "execution_count": null,
      "metadata": {
        "colab": {
          "base_uri": "https://localhost:8080/"
        },
        "id": "VN3DLGR4Q-gX",
        "outputId": "bef7acec-fb09-430c-8961-33112f93fdf5"
      },
      "outputs": [
        {
          "name": "stdout",
          "output_type": "stream",
          "text": [
            "-1\n"
          ]
        }
      ],
      "source": [
        "def div(a, b):\n",
        "  if b == 0:\n",
        "    return -1\n",
        "  else:\n",
        "    a /= b\n",
        "  return a\n",
        "print(div(10, 0))"
      ]
    },
    {
      "cell_type": "code",
      "execution_count": null,
      "metadata": {
        "colab": {
          "base_uri": "https://localhost:8080/"
        },
        "id": "7c7PMFSrRxfZ",
        "outputId": "57a22769-c1c8-4c2b-d254-6e225aabe00f"
      },
      "outputs": [
        {
          "name": "stdout",
          "output_type": "stream",
          "text": [
            "-1\n"
          ]
        }
      ],
      "source": [
        "def div(a, b):\n",
        "  if type(b) != int:\n",
        "    return -1\n",
        "  else:\n",
        "    a **= b\n",
        "  return a\n",
        "print(div(2, 3.0))"
      ]
    },
    {
      "cell_type": "code",
      "execution_count": null,
      "metadata": {
        "colab": {
          "base_uri": "https://localhost:8080/"
        },
        "id": "MAoPOMTEShWf",
        "outputId": "dc8ed6cb-773c-41b4-e2a9-55d36c2e78ed"
      },
      "outputs": [
        {
          "name": "stdout",
          "output_type": "stream",
          "text": [
            "3.1416026534897203\n"
          ]
        }
      ],
      "source": [
        "def pi(a):\n",
        "  soma = 0\n",
        "  for k in range(a + 1):\n",
        "    termo = (-1) ** k / (2 * k+ 1)\n",
        "    soma += termo\n",
        "  return soma * 4\n",
        "print(pi(100000))"
      ]
    },
    {
      "cell_type": "code",
      "execution_count": null,
      "metadata": {
        "colab": {
          "base_uri": "https://localhost:8080/"
        },
        "id": "trK5Cyeeeifg",
        "outputId": "6c150730-931a-4870-9608-094d78147a4c"
      },
      "outputs": [
        {
          "name": "stdout",
          "output_type": "stream",
          "text": [
            "3628800\n"
          ]
        }
      ],
      "source": [
        "def fatorial(a):\n",
        "  b = a\n",
        "  if a == 0:\n",
        "    return 1\n",
        "  else:\n",
        "    while b > 1:\n",
        "      b -= 1\n",
        "      multi = a * b\n",
        "      a = multi\n",
        "  return a\n",
        "print(fatorial(10))"
      ]
    },
    {
      "cell_type": "code",
      "execution_count": null,
      "metadata": {
        "colab": {
          "base_uri": "https://localhost:8080/"
        },
        "id": "RhV0mcg3tlfo",
        "outputId": "289ea330-03ec-4e1c-beba-7663f9f87433"
      },
      "outputs": [
        {
          "name": "stdout",
          "output_type": "stream",
          "text": [
            "30414093201713378043612608166064768844377641568960512000000000000\n"
          ]
        }
      ],
      "source": [
        "def fatorial2(a):\n",
        "  if a == 0:\n",
        "    return 1\n",
        "  else:\n",
        "    for b in range(1, a):\n",
        "      multi = a * b\n",
        "      a = multi\n",
        "  return a\n",
        "print(fatorial2(50))"
      ]
    },
    {
      "cell_type": "markdown",
      "metadata": {
        "id": "30NXKoT1PdKg"
      },
      "source": [
        "#Aula 22/06"
      ]
    },
    {
      "cell_type": "code",
      "execution_count": null,
      "metadata": {
        "colab": {
          "base_uri": "https://localhost:8080/"
        },
        "id": "KCfCH_79Pjdl",
        "outputId": "b17964ae-b568-4be2-9591-43a3c4432c46"
      },
      "outputs": [
        {
          "name": "stdout",
          "output_type": "stream",
          "text": [
            "A\n",
            "AA\n",
            "AAA\n",
            "AAAA\n",
            "AAAAA\n"
          ]
        }
      ],
      "source": [
        "def escada(a, b):\n",
        "  n = a\n",
        "  for x in range(1, b + 1):\n",
        "    n = a * x\n",
        "    print(n)\n",
        "escada('A',5)"
      ]
    },
    {
      "cell_type": "code",
      "execution_count": null,
      "metadata": {
        "colab": {
          "base_uri": "https://localhost:8080/"
        },
        "id": "caD9J4D6PjvL",
        "outputId": "ba696883-5192-489a-f311-958f89734c90"
      },
      "outputs": [
        {
          "name": "stdout",
          "output_type": "stream",
          "text": [
            "     A\n",
            "    AAA\n",
            "   AAAAA\n",
            "  AAAAAAA\n",
            " AAAAAAAAA\n"
          ]
        }
      ],
      "source": [
        "def piramide(a, b):\n",
        "  n = a\n",
        "  c = b - 1\n",
        "  for x in range(1, b + 1):\n",
        "    print(' '*c, n)\n",
        "    n = 2 * a * x + a\n",
        "    c-=1\n",
        "piramide('A',5)"
      ]
    },
    {
      "cell_type": "code",
      "execution_count": null,
      "metadata": {
        "colab": {
          "base_uri": "https://localhost:8080/"
        },
        "id": "Qx1BUL0iPj_E",
        "outputId": "e2efaa34-5925-4ac4-8921-55f61904a799"
      },
      "outputs": [
        {
          "name": "stdout",
          "output_type": "stream",
          "text": [
            "3628800\n"
          ]
        }
      ],
      "source": [
        "def fatorial(a):\n",
        "  b = a\n",
        "  if a == 0:\n",
        "    return 1\n",
        "  else:\n",
        "    while b > 1:\n",
        "      b -= 1\n",
        "      multi = a * b\n",
        "      a = multi\n",
        "  return a\n",
        "print(fatorial(10))"
      ]
    },
    {
      "cell_type": "code",
      "execution_count": null,
      "metadata": {
        "colab": {
          "base_uri": "https://localhost:8080/"
        },
        "id": "0l6GjebnPkOy",
        "outputId": "f637e9d9-3026-49cd-d4d4-32353645669b"
      },
      "outputs": [
        {
          "name": "stdout",
          "output_type": "stream",
          "text": [
            "3628800\n"
          ]
        }
      ],
      "source": [
        "def fatorial2(a):\n",
        "  if a == 0:\n",
        "    return 1\n",
        "  else:\n",
        "    for b in range(1, a):\n",
        "      multi = a * b\n",
        "      a = multi\n",
        "  return a\n",
        "print(fatorial2(10))"
      ]
    },
    {
      "cell_type": "code",
      "execution_count": null,
      "metadata": {
        "colab": {
          "base_uri": "https://localhost:8080/"
        },
        "id": "voLh9u9PPp9D",
        "outputId": "01cc439e-6aa6-4234-fd05-44bc64f68bc4"
      },
      "outputs": [
        {
          "name": "stdout",
          "output_type": "stream",
          "text": [
            "0\n",
            "1\n",
            "1\n",
            "2\n",
            "3\n",
            "5\n",
            "8\n",
            "13\n",
            "21\n",
            "34\n",
            "55\n",
            "89\n",
            "144\n"
          ]
        }
      ],
      "source": [
        "# Primeiros n elementos de fibonacci\n",
        "def fibo(n):\n",
        "  anterior = 0\n",
        "  sucessor = 1\n",
        "  for x in range(n):\n",
        "    print(anterior)\n",
        "    backup = anterior\n",
        "    anterior = sucessor\n",
        "    sucessor += backup\n",
        "fibo(13)"
      ]
    },
    {
      "cell_type": "code",
      "execution_count": null,
      "metadata": {
        "colab": {
          "base_uri": "https://localhost:8080/"
        },
        "id": "0m0JTyGpfc21",
        "outputId": "026741a6-9fcf-459f-9d26-6d1c1fad9db1"
      },
      "outputs": [
        {
          "name": "stdout",
          "output_type": "stream",
          "text": [
            "Não é primo\n",
            "Não é primo\n",
            "Não é primo\n",
            "É primo\n",
            "Não é primo\n"
          ]
        }
      ],
      "source": [
        "def primo(n):\n",
        "  if n == 1:\n",
        "    return 'Não é primo'\n",
        "  for div in range(2,n):\n",
        "    if n % div == 0:\n",
        "      return 'Não é primo'\n",
        "  return 'É primo'\n",
        "print(primo(12))\n",
        "print(primo(25))\n",
        "print(primo(1000))\n",
        "print(primo(2))\n",
        "print(primo(1))"
      ]
    },
    {
      "cell_type": "code",
      "execution_count": null,
      "metadata": {
        "colab": {
          "base_uri": "https://localhost:8080/"
        },
        "id": "mJGXWfvso-1n",
        "outputId": "c009ed15-519f-4227-cf6a-cb167619f16c"
      },
      "outputs": [
        {
          "name": "stdout",
          "output_type": "stream",
          "text": [
            "Não é primo\n",
            "Não é primo\n",
            "Não é primo\n",
            "É primo\n",
            "Não é primo\n"
          ]
        }
      ],
      "source": [
        "def primo2(n):\n",
        "  div = 2\n",
        "  if n == 1:\n",
        "    return 'Não é primo'\n",
        "  while div < n:\n",
        "    if n % div == 0:\n",
        "      return 'Não é primo'\n",
        "    else:\n",
        "      div+=1\n",
        "  return 'É primo'\n",
        "print(primo2(12))\n",
        "print(primo2(25))\n",
        "print(primo2(1000))\n",
        "print(primo2(2))\n",
        "print(primo2(1))"
      ]
    },
    {
      "cell_type": "markdown",
      "metadata": {
        "id": "vOyEtkTj4hlS"
      },
      "source": [
        "## Prova 06/07/2022"
      ]
    },
    {
      "cell_type": "code",
      "execution_count": null,
      "metadata": {
        "colab": {
          "base_uri": "https://localhost:8080/"
        },
        "id": "RJc4eQ9b4naa",
        "outputId": "71ddf7c1-de09-4c2d-8af5-30f9b23d757d"
      },
      "outputs": [
        {
          "name": "stdout",
          "output_type": "stream",
          "text": [
            "Informe o horário de partida (horas): 12\n",
            "Informe o horário de partida (minutos): 60\n",
            "Informe o tempo de viagem (horas): 2\n",
            "Informe o tempo de viagem (minutos): 60\n",
            "Informe o fuso horário: 12\n",
            "O horário previsto para chegada no destino é 4:0\n"
          ]
        }
      ],
      "source": [
        "# prova corrigida e tratada - questão 1\n",
        "horas=int(input('Informe o horário de partida (horas): '))\n",
        "minutos=int(input('Informe o horário de partida (minutos): '))\n",
        "viagem_horas=int(input('Informe o tempo de viagem (horas): '))\n",
        "viagem_minutos=int(input('Informe o tempo de viagem (minutos): '))\n",
        "fuso=int(input('Informe o fuso horário: '))\n",
        "\n",
        "chegada_horas=horas+viagem_horas+fuso\n",
        "chegada_minutos=minutos+viagem_minutos\n",
        "chegada_horas+=(chegada_minutos//60)\n",
        "chegada_minutos%=60\n",
        "chegada_horas%=24\n",
        "print('O horário previsto para chegada no destino é {0}:{1}'.format(chegada_horas,chegada_minutos))"
      ]
    },
    {
      "cell_type": "code",
      "execution_count": null,
      "metadata": {
        "colab": {
          "base_uri": "https://localhost:8080/"
        },
        "id": "ehKr7pB84s_9",
        "outputId": "dd0790c8-5356-42f0-ccb4-a880fab410f6"
      },
      "outputs": [
        {
          "name": "stdout",
          "output_type": "stream",
          "text": [
            "Digite uma idade: 15\n",
            "Informe o sexo: M/F: f\n",
            "Informe o salário: 1200\n",
            "Gostaria de coletar mais dados? S/N: s\n",
            "Digite uma idade: 18\n",
            "Informe o sexo: M/F: m\n",
            "Informe o salário: 2000\n",
            "Gostaria de coletar mais dados? S/N: n\n",
            "Á média de salários é 1600.0, a menor idade é 15, a maior idade é 18, a região possui 1 mulher(es) e a pessoa que possui o maior sálario é um(a) homem de 18 anos\n"
          ]
        }
      ],
      "source": [
        "# prova corrigida e tratada - questão 2\n",
        "#coding=UTF-8\n",
        "res='s'\n",
        "maior_idade= float('-inf')\n",
        "menor_idade= float('inf')\n",
        "maior_salario=0\n",
        "med_salario=0\n",
        "loop=0\n",
        "mulheres=0\n",
        "while res == 's':\n",
        "    idade=int(input('Digite uma idade: '))\n",
        "    if idade <= 0:\n",
        "        break\n",
        "    sexo=input('Informe o sexo: M/F: ').lower()\n",
        "    if sexo =='f':\n",
        "        mulheres+=1        \n",
        "    salario=float(input('Informe o salário: '))\n",
        "    if salario > maior_salario:\n",
        "        maior_salario=salario\n",
        "        if sexo == 'f':\n",
        "            maior_salario_sexo= 'mulher'\n",
        "        else:\n",
        "            maior_salario_sexo= 'homem'\n",
        "        maior_salario_idade= idade    \n",
        "    med_salario+=salario\n",
        "    if idade > maior_idade:\n",
        "        maior_idade= idade    \n",
        "    if idade < menor_idade:  \n",
        "        menor_idade= idade    \n",
        "    loop+=1\n",
        "    res=input('Gostaria de coletar mais dados? S/N: ').lower()\n",
        "if loop == 0:\n",
        "    print('Idade inválida, ainda não foram lidos dados válidos')\n",
        "else:\n",
        "    media= med_salario/loop\n",
        "    print('Á média de salários é {0}, a menor idade é {1}, a maior idade é {2}, a região possui {3} mulher(es) e a pessoa que possui o maior sálario é um(a) {4} de {5} anos'.format(media, menor_idade, maior_idade, mulheres, maior_salario_sexo, maior_salario_idade))"
      ]
    },
    {
      "cell_type": "code",
      "execution_count": null,
      "metadata": {
        "colab": {
          "base_uri": "https://localhost:8080/"
        },
        "id": "nLOn-8sK40de",
        "outputId": "315d39a7-f21f-4a78-fe10-d737a4989e5e"
      },
      "outputs": [
        {
          "name": "stdout",
          "output_type": "stream",
          "text": [
            "Digite um valor: 1000\n",
            "Digite a quantidade de parcelas: 5\n",
            "Cada parcela será de:, 220.0,reais\n"
          ]
        }
      ],
      "source": [
        "# prova corrigida e tratada - questão 3\n",
        "def credito():\n",
        "  valor=int(input('Digite um valor: '))\n",
        "  parcelas=int(input('Digite a quantidade de parcelas: '))\n",
        "  if valor == 0:\n",
        "    return 'Valor de produto incorreto'\n",
        "  if parcelas <= 1:\n",
        "    return 'Parcela precisa ser maior que uma' \n",
        "  juros = 2 * parcelas/100\n",
        "  valor_juros = valor + valor * juros\n",
        "  valor_parcelas = valor_juros/parcelas\n",
        "  return valor_parcelas\n",
        "\n",
        "print(f'Cada parcela será de:, {credito()},reais')"
      ]
    },
    {
      "cell_type": "markdown",
      "metadata": {
        "id": "O8YCAoWNUYld"
      },
      "source": [
        "## Listas"
      ]
    },
    {
      "cell_type": "code",
      "execution_count": null,
      "metadata": {
        "colab": {
          "base_uri": "https://localhost:8080/"
        },
        "id": "TUZu7k7Qgozn",
        "outputId": "a4efb02c-58bd-44c3-e7e1-6d6f6b247731"
      },
      "outputs": [
        {
          "name": "stdout",
          "output_type": "stream",
          "text": [
            "UM <class 'str'>\n",
            "DOIS <class 'str'>\n",
            "1 <class 'int'>\n",
            "9.1 <class 'float'>\n"
          ]
        }
      ],
      "source": [
        "a=['UM','DOIS',1, 9.1]\n",
        "for i in a:\n",
        "  print(i, type(i))"
      ]
    },
    {
      "cell_type": "code",
      "execution_count": null,
      "metadata": {
        "colab": {
          "base_uri": "https://localhost:8080/"
        },
        "id": "g8NfXHLIiFGe",
        "outputId": "6143e294-d079-4a6b-937b-f943359afeb6"
      },
      "outputs": [
        {
          "name": "stdout",
          "output_type": "stream",
          "text": [
            "o maior é: 8, o menor é: 1\n"
          ]
        }
      ],
      "source": [
        "# lista = [5,19,1,6,7,55,99,1000,-99999]\n",
        "lista =[4,1,5,8,6]\n",
        "maior = float('-inf')\n",
        "menor = float('inf')\n",
        "# maiorr = lista[0]\n",
        "# menor = lista[0]\n",
        "\n",
        "for elem in lista:\n",
        "  if elem < menor:\n",
        "    menor = elem\n",
        "  if elem > maior:\n",
        "    maior = elem\n",
        "\n",
        "print(f'o maior é: {maior}, o menor é: {menor}')"
      ]
    },
    {
      "cell_type": "code",
      "execution_count": null,
      "metadata": {
        "colab": {
          "base_uri": "https://localhost:8080/"
        },
        "id": "rY_fRLVgrTvC",
        "outputId": "5695d456-fc0d-4cb6-dc91-9631b7842c11"
      },
      "outputs": [
        {
          "name": "stdout",
          "output_type": "stream",
          "text": [
            "[2]\n",
            "[2, 7]\n"
          ]
        }
      ],
      "source": [
        "salario=[5000,8000,4500,4000,1200,700,2000]\n",
        "meses=[]\n",
        "maior_ant=[]\n",
        "for mes in range(len(salario)):\n",
        "  if salario[mes] > 5000:\n",
        "    meses.append(mes+1)\n",
        "  if mes!=0 and salario[mes] > salario[mes-1]:\n",
        "    maior_ant.append(mes+1)\n",
        "print(meses)\n",
        "print(maior_ant)"
      ]
    },
    {
      "cell_type": "code",
      "execution_count": null,
      "metadata": {
        "colab": {
          "base_uri": "https://localhost:8080/"
        },
        "id": "YjImzguy6Xbu",
        "outputId": "87e20167-474d-46c7-df15-8551053576ac"
      },
      "outputs": [
        {
          "name": "stdout",
          "output_type": "stream",
          "text": [
            "tamanho: 5\n",
            "valores: 8\n",
            "valores: 3\n",
            "valores: 0\n",
            "valores: 1\n",
            "valores: 5\n",
            "busca: 18\n",
            "O elemento não está na lista\n"
          ]
        }
      ],
      "source": [
        "def lista():\n",
        "  lista=[]\n",
        "  tamanho=int(input('tamanho: '))\n",
        "  for x in range(tamanho):\n",
        "    valores=int(input('valores: '))\n",
        "    lista.append(valores)\n",
        "  return lista\n",
        "\n",
        "def buscador():\n",
        "  lista_busca=lista()\n",
        "  busca=int(input('busca: '))\n",
        "  for ind in range(len(lista_busca)):\n",
        "    if busca == lista_busca[ind]:\n",
        "      return print('posição:',ind+1)\n",
        "  return print('O elemento não está na lista')     \n",
        "\n",
        "buscador()"
      ]
    }
  ],
  "metadata": {
    "colab": {
      "collapsed_sections": [
        "neDzeSx8QVVl"
      ],
      "name": "Algoritmos e estrutura de dados 1.ipynb",
      "provenance": []
    },
    "kernelspec": {
      "display_name": "Python 3",
      "name": "python3"
    },
    "language_info": {
      "name": "python"
    }
  },
  "nbformat": 4,
  "nbformat_minor": 0
}
