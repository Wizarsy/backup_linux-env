{
  "cells": [
    {
      "cell_type": "markdown",
      "metadata": {
        "id": "GomNll84JQMo"
      },
      "source": [
        "##Geral"
      ]
    },
    {
      "cell_type": "code",
      "execution_count": null,
      "metadata": {
        "id": "aBrw-24pyV9v"
      },
      "outputs": [],
      "source": [
        "while True:\n",
        "  try:\n",
        "    x = float(input('Número: '))\n",
        "    if x in range(15, 18):\n",
        "      print('OK')\n",
        "    elif x < 15:\n",
        "      print('Pequeno')\n",
        "    elif x > 17:\n",
        "      print('Grande')\n",
        "    break\n",
        "  except:\n",
        "    print('Lembre-se, apenas números')\n",
        "    continue"
      ]
    },
    {
      "cell_type": "code",
      "execution_count": null,
      "metadata": {
        "id": "vkX5jmMJ5B2s"
      },
      "outputs": [],
      "source": [
        "x = 0\n",
        "while x == 0:\n",
        "  try:\n",
        "    x = int(input('Número: '))\n",
        "    if x in range(15, 18):\n",
        "      print('OK')\n",
        "    if x < 15:\n",
        "      print('Pequeno')\n",
        "    if x > 17:\n",
        "      print('Grande')\n",
        "  except:\n",
        "    print('Lembre-se, apenas números')"
      ]
    },
    {
      "cell_type": "code",
      "execution_count": null,
      "metadata": {
        "id": "N2OE3FHD_bpO"
      },
      "outputs": [],
      "source": [
        "for x in range(0,10):\n",
        "  print(x)"
      ]
    },
    {
      "cell_type": "code",
      "execution_count": null,
      "metadata": {
        "id": "ysxpcNhYAsMx"
      },
      "outputs": [],
      "source": [
        "x = 1\n",
        "while True:\n",
        " if  x  <= 10:\n",
        "    print(x)\n",
        "    x += 1\n",
        "    continue\n",
        " else:\n",
        "    break"
      ]
    },
    {
      "cell_type": "code",
      "execution_count": null,
      "metadata": {
        "id": "DZleM4sieVtb"
      },
      "outputs": [],
      "source": [
        "x = 0\n",
        "while x < 10:\n",
        "  x += 1\n",
        "  print(x)"
      ]
    },
    {
      "cell_type": "code",
      "execution_count": null,
      "metadata": {
        "id": "34WnbdYZucSc"
      },
      "outputs": [],
      "source": [
        "import random\n",
        "pais =['Brasil', 'Argentina', 'Portugal']\n",
        "item =random.choice(pais)\n",
        "pais.remove(item)\n",
        "print(pais)\n",
        "print(item)"
      ]
    },
    {
      "cell_type": "markdown",
      "metadata": {
        "id": "RMndom6SaTyj"
      },
      "source": [
        "##Testes facul"
      ]
    },
    {
      "cell_type": "code",
      "execution_count": null,
      "metadata": {
        "id": "wp8oIANUvGQw"
      },
      "outputs": [],
      "source": [
        "#Soma até resposta certa - NÃO usar assim\n",
        "s = 0\n",
        "while True:\n",
        "   n = int(input())\n",
        "   if n == 0:\n",
        "     print(\"Acertou!\")\n",
        "     if s != 0:\n",
        "       print(\"Acertou! A soma deu:\",s)\n",
        "     break\n",
        "   if n != 0:\n",
        "     s += n\n",
        "     continue"
      ]
    },
    {
      "cell_type": "code",
      "execution_count": null,
      "metadata": {
        "id": "oa4TxNRorrxU"
      },
      "outputs": [],
      "source": [
        "#Soma até resposta certa - usar assim\n",
        "n = None\n",
        "s = 0\n",
        "while n != 0:\n",
        "   n = int(input())\n",
        "   s += n\n",
        "if s > 0:\n",
        "   print(\"Acertou! A soma deu:\",s)\n",
        "else:\n",
        "   print(\"Acertou!\")"
      ]
    },
    {
      "cell_type": "code",
      "execution_count": null,
      "metadata": {
        "id": "-VNA-xjqTAXh"
      },
      "outputs": [],
      "source": [
        "#Multiplicação por Soma - NÃO usar assim\n",
        "n1 = int(input())\n",
        "n2 = int(input())\n",
        "c = 0\n",
        "s = 0\n",
        "while True:\n",
        "  if c < n2:\n",
        "   s = s + n1\n",
        "   c += 1\n",
        "   continue\n",
        "  if c == n2:\n",
        "    print(s)\n",
        "    break"
      ]
    },
    {
      "cell_type": "code",
      "execution_count": null,
      "metadata": {
        "id": "wbkJGRA0VzYy"
      },
      "outputs": [],
      "source": [
        "#Multiplicação por soma - usar while assim\n",
        "n1 = int(input())\n",
        "n2 = int(input())\n",
        "c = 0\n",
        "s = 0\n",
        "while c != n2:\n",
        "   s += n1\n",
        "   c += 1\n",
        "print(s)"
      ]
    },
    {
      "cell_type": "code",
      "execution_count": null,
      "metadata": {
        "id": "UcyOWRb_iauU"
      },
      "outputs": [],
      "source": [
        "#Maior e menor número com média até resposta certa \n",
        "x, c, s = None, 0, 0\n",
        "maior = float('-inf') #float('-inf') para -∞\n",
        "menor = float('inf') #float('inf') para +∞\n",
        "while x != 0:\n",
        "  x = int(input())\n",
        "  s += x\n",
        "  c += 1\n",
        "  if x > 0:\n",
        "    if x > maior:\n",
        "      maior = x\n",
        "    if x < menor:\n",
        "      menor = x\n",
        "    m = s / c\n",
        "#print('maior:',maior,'|','menor:',menor,'|','média:',m,'|','loops:',c)\n",
        "print('maior: {0} | menor: {1} | média: {2} | loops: {3}'.format(maior, menor, m, c))"
      ]
    },
    {
      "cell_type": "code",
      "execution_count": null,
      "metadata": {
        "id": "BdP9b4EK9kRH"
      },
      "outputs": [],
      "source": [
        "#12\n",
        "h = ('Homem','homem')\n",
        "m = ('Mulher','mulher')\n",
        "altura = 0\n",
        "sexo = 0\n",
        "peso = 0\n",
        "while sexo not in h and sexo not in m or altura == 0 or peso == 0:\n",
        "  try:\n",
        "    sexo = input('Informe se você é Homem ou Mulher: ')\n",
        "    altura = float(input('Informe sua altura: '))\n",
        "    peso = float(input('Informe seu peso: '))\n",
        "  except:\n",
        "    print('\\nDados inválidos')\n",
        "    \n",
        "if sexo in h:\n",
        "  peso_ideal = (72.7 * altura)- 58\n",
        "elif sexo in m:\n",
        "  peso_ideal = (62.1 * altura) - 44.7\n",
        "\n",
        "variação = peso_ideal * (8/100)\n",
        "variação_abaixo = peso_ideal - variação\n",
        "variação_acima = peso_ideal + variação\n",
        "\n",
        "if peso <= variação_abaixo:\n",
        "  peso_estado = 'Abaixo'\n",
        "elif peso >= variação_acima:\n",
        "  peso_estado = 'Acima'\n",
        "else:\n",
        "  peso_estado = 'Normal'\n",
        "\n",
        "print('Seu peso é {0}Kg | Seu peso ideal é {1:.2f}Kg | Você está com o peso {2}'.format(peso, peso_ideal, peso_estado))"
      ]
    },
    {
      "cell_type": "code",
      "execution_count": null,
      "metadata": {
        "id": "PFfZZn95MKOA"
      },
      "outputs": [],
      "source": [
        "x = 100\n",
        "y = []\n",
        "while x < 1000:\n",
        "  if x % 2 != 0 and x % 3 !=0 and x % 5 != 0 and x % 7 != 0 and x % 11 != 0:\n",
        "    y.append(x)\n",
        "    x += 1\n",
        "  else:\n",
        "    x += 1\n",
        "print(y)"
      ]
    },
    {
      "cell_type": "code",
      "execution_count": null,
      "metadata": {
        "id": "H3cjCpAAEu2J"
      },
      "outputs": [],
      "source": [
        "l = list(range(1,1001))\n",
        "l1 = [2,3,5,7,11,13,15,17,23]\n",
        "p = []\n",
        "m2 = [ x * l1[0] for x in l if x > l[0]]\n",
        "p.extend(m2)\n",
        "m3 = [ x * l1[1] for x in l if x > l[0]]\n",
        "p.extend(m3)\n",
        "m5 = [ x * l1[2] for x in l if x > l[0]]\n",
        "p.extend(m5)\n",
        "m7 = [ x * l1[3] for x in l if x > l[0]]\n",
        "p.extend(m7)\n",
        "m11 = [ x * l1[4] for x in l if x > l[0]]\n",
        "p.extend(m11)\n",
        "m13 = [ x * l1[5] for x in l if x > l[0]]\n",
        "p.extend(m13)\n",
        "m15 = [ x * l1[6] for x in l if x > l[0]]\n",
        "p.extend(m15)\n",
        "m17 = [ x * l1[7] for x in l if x > l[0]]\n",
        "p.extend(m17)\n",
        "m23 = [ x * l1[8] for x in l if x > l[0]]\n",
        "p.extend(m23)\n",
        "# p.sort()\n",
        "# final = m2 + m3 + m5 + m7 + m11 + m13 + m15 + m17 + m23\n",
        "mu = [x for x in l if x not in p and x > l[0]]\n",
        "print(mu)"
      ]
    },
    {
      "cell_type": "code",
      "execution_count": null,
      "metadata": {
        "id": "dFnKuvNQP40c"
      },
      "outputs": [],
      "source": [
        "# Usar return ao invés de print para resposta da função, output menos poluido e o tu ainda consegue chamar a resposta\n",
        "def teste(a,b):\n",
        "  a+=b\n",
        "  return a \n",
        "\n",
        "x=2\n",
        "y=3\n",
        "print(teste(1,5))\n",
        "print(teste(15,10))\n",
        "print(teste(x,y))\n",
        "print(teste(15,20))"
      ]
    },
    {
      "cell_type": "code",
      "execution_count": null,
      "metadata": {
        "id": "s4foK7YQZwdh"
      },
      "outputs": [],
      "source": [
        "def fibo(n):\n",
        "  a = 0\n",
        "  b = 1\n",
        "  d = 0\n",
        "  while d < n:\n",
        "    print(a)\n",
        "    c = a\n",
        "    a = b\n",
        "    b = c+b\n",
        "    d+=1\n",
        "    #a,b = b, a+b # Concatenar em uma linha só faz o python guardar o valor inicia da variavel antes dela mudar\n",
        "fibo(7)"
      ]
    }
  ],
  "metadata": {
    "colab": {
      "collapsed_sections": [
        "GomNll84JQMo"
      ],
      "name": "Testes.ipynb",
      "provenance": []
    },
    "kernelspec": {
      "display_name": "Python 3",
      "name": "python3"
    },
    "language_info": {
      "name": "python"
    }
  },
  "nbformat": 4,
  "nbformat_minor": 0
}
