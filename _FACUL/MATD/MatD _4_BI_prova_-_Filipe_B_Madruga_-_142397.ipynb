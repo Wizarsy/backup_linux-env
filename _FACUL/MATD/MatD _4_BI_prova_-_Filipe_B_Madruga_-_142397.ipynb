{
  "cells": [
    {
      "cell_type": "code",
      "execution_count": 13,
      "metadata": {
        "colab": {
          "base_uri": "https://localhost:8080/"
        },
        "id": "UOWgQXd44TfG",
        "outputId": "b81ab732-d5bf-4fc4-8cce-1cedc55d6cff"
      },
      "outputs": [
        {
          "name": "stdout",
          "output_type": "stream",
          "text": [
            "8\n",
            "13\n",
            "21\n",
            "34\n",
            "55\n"
          ]
        }
      ],
      "source": [
        "'''\n",
        "1. (1.0 ponto) Escreva uma função em Python para calcular o valor\n",
        "de um número (escolhido pelo usuário) da sequência de Fibonacci utilizando\n",
        "recursão, explique cada passo da implementação.\n",
        "'''\n",
        "\n",
        "def fibo(n):\n",
        "  if n == 0:\n",
        "    return 0\n",
        "  if n == 1:\n",
        "    return 1\n",
        "  return fibo(n - 1) + fibo(n - 2)\n",
        "\n",
        "print(fibo(6))\n",
        "print(fibo(7))\n",
        "print(fibo(8))\n",
        "print(fibo(9))\n",
        "print(fibo(10))\n",
        "\n",
        "# A função ira fazer \"loops\" chamando ela mesma e calcular a soma de 'n - 1 + n - 2'"
      ]
    },
    {
      "cell_type": "code",
      "execution_count": 14,
      "metadata": {
        "colab": {
          "base_uri": "https://localhost:8080/"
        },
        "id": "cyPb1LspJTds",
        "outputId": "4302d5e4-8b22-4548-c842-f971f2a78483"
      },
      "outputs": [
        {
          "name": "stdout",
          "output_type": "stream",
          "text": [
            "720\n",
            "5040\n",
            "40320\n",
            "362880\n",
            "3628800\n"
          ]
        }
      ],
      "source": [
        "'''\n",
        "2. (1.0 ponto) Escreva uma função em Python para calcular o valor do fatorial\n",
        "de um número (escolhido pelo usuário) utilizando recursão, explique cada\n",
        "passo da implementação.\n",
        "'''\n",
        "def fact(n):\n",
        "  if n == 0:\n",
        "    return 1\n",
        "  return n * fact(n - 1)\n",
        "\n",
        "print(fact(6))\n",
        "print(fact(7))\n",
        "print(fact(8))\n",
        "print(fact(9))\n",
        "print(fact(10))\n",
        "\n",
        "# Enquanto 'n' for diferente de 0 ela era chamar a cima mesma multiplicando o valor de 'n' por 'n - 1'"
      ]
    },
    {
      "cell_type": "code",
      "execution_count": 15,
      "metadata": {
        "colab": {
          "base_uri": "https://localhost:8080/"
        },
        "id": "Zn0WZ9shWNgW",
        "outputId": "8a60e7f7-96c9-4187-8282-87938f119ecc"
      },
      "outputs": [
        {
          "name": "stdout",
          "output_type": "stream",
          "text": [
            "O 6° elemento de fibonacchi é 8\n",
            "O 7° elemento de fibonacchi é 13\n",
            "O 8° elemento de fibonacchi é 21\n",
            "O 9° elemento de fibonacchi é 34\n",
            "O 10° elemento de fibonacchi é 55\n"
          ]
        }
      ],
      "source": [
        "'''\n",
        "3. (2.0 pontos) Resolva os problemas 1 e 2, porém desta vez sem utilizar\n",
        "recursão (utilize laços de repetição), explique cada passo da implementação.\n",
        "'''\n",
        "def fibo2(n):\n",
        "  a, b = 0, 1\n",
        "  for i in range(n):\n",
        "    a, b = b, a + b \n",
        "  return f'O {n}° elemento de fibonacchi é {a}'\n",
        "\n",
        "print(fibo2(6))\n",
        "print(fibo2(7))\n",
        "print(fibo2(8))\n",
        "print(fibo2(9))\n",
        "print(fibo2(10))\n",
        "\n",
        "# A cada loop realiza o swap (troca) do valor da variavel 'b' pra variavel 'a', \n",
        "# enquanto realiza a soma dos valores antigos de 'a' e 'b', \n",
        "# isso se da pois é criada uma tupla internamente no programa onde se possibilita essa operação"
      ]
    },
    {
      "cell_type": "code",
      "execution_count": 16,
      "metadata": {
        "colab": {
          "base_uri": "https://localhost:8080/"
        },
        "id": "9ZdsH90tXYl1",
        "outputId": "cec221ec-74fe-4ecb-93fc-a59f573edb8d"
      },
      "outputs": [
        {
          "name": "stdout",
          "output_type": "stream",
          "text": [
            "O fatorial de 6 é 720\n",
            "O fatorial de 7 é 5040\n",
            "O fatorial de 8 é 40320\n",
            "O fatorial de 9 é 362880\n",
            "O fatorial de 10 é 3628800\n"
          ]
        }
      ],
      "source": [
        "'''\n",
        "3. (2.0 pontos) Resolva os problemas 1 e 2, porém desta vez sem utilizar\n",
        "recursão (utilize laços de repetição), explique cada passo da implementação.\n",
        "'''\n",
        "def fact2(n):\n",
        "  if n == 0:\n",
        "    return 1\n",
        "  a = 1\n",
        "  for i in range(1, n + 1):\n",
        "    a *= i\n",
        "  return f'O fatorial de {n} é {a}'\n",
        "\n",
        "print(fact2(6))\n",
        "print(fact2(7))\n",
        "print(fact2(8))\n",
        "print(fact2(9))\n",
        "print(fact2(10))\n",
        "\n",
        "\n",
        "# A cada loop a variavel 'a' é multiplicada pelo interador que começa em 1 até o valor de 'n' passado por parâmetro."
      ]
    },
    {
      "attachments": {},
      "cell_type": "markdown",
      "metadata": {
        "id": "Z5Xp0XJDdOYC"
      },
      "source": [
        "4. **(1.0 ponto) Disserte sobre as principais diferenças de implementação, qual\n",
        "você achou mais fácil de resolver? Qual você considera mais eficiente e\n",
        "porquê? Utilize o conhecimento adquirido nesta e nas outras disciplinas\n",
        "para argumentar sobre.**\n",
        "\n",
        "Existem inúmeras maneiras de implementar a resolução de um problema dentro da programação e quando se busca resolver problemas complexos com poucas linhas o uso da recursão se torna importante, mesmo que não seja o método mais eficiente pois a cada chamada é alocado mais memória a resolução do exercício 1 e 2 se assemelhou mais ao método matemático de resolução dos problemas em questão, já quando resolvido de forma mais convencional os exercícios precisou-se criar mais variáveis do que era passada por parâmetro para a função além da necessidade na criação de um loop para que funcionasse. Com recursão apenas a variável que foi passada foi necessária, enquanto no convencional como por exemplo na resolução de Fibonacci, mesmo fazendo de uma forma eficiente que é o de swap de variáveis ainda sim precisou criar 4 variáveis a mais que no método por recursão. Usar recursão é mais simples e quanto a sua eficiência vai depender muito do qual problema se quer resolver e o quão complexo o código necessita ser, uma das desvantagens da recursão é a dificuldade de fazer saida mais elegante como foi feita no método mais convencional.\n"
      ]
    }
  ],
  "metadata": {
    "colab": {
      "provenance": []
    },
    "kernelspec": {
      "display_name": "Python 3",
      "name": "python3"
    },
    "language_info": {
      "name": "python",
      "version": "3.11.0"
    }
  },
  "nbformat": 4,
  "nbformat_minor": 0
}
